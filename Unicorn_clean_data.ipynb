{
 "cells": [
  {
   "cell_type": "markdown",
   "metadata": {},
   "source": [
    "**Introduction**\n",
    "\n",
    "Your client wants to develop a better understanding of unicorns, with the hope they can be early investors in future highly successful companies. They are particularly interested in the investment strategies of the three top unicorn investors: Sequoia Capital, Tiger Global Management, and Accel. \n"
   ]
  },
  {
   "cell_type": "markdown",
   "metadata": {},
   "source": []
  },
  {
   "cell_type": "code",
   "execution_count": 3,
   "metadata": {},
   "outputs": [],
   "source": [
    "# Import libraries and packages.\n",
    "\n",
    "import numpy as np\n",
    "import pandas as pd\n",
    "import seaborn as sns\n",
    "import matplotlib.pyplot as plt"
   ]
  },
  {
   "cell_type": "code",
   "execution_count": 4,
   "metadata": {},
   "outputs": [],
   "source": [
    "# Run this cell so pandas displays all columns\n",
    "pd.set_option('display.max_columns', None)"
   ]
  },
  {
   "cell_type": "code",
   "execution_count": 5,
   "metadata": {},
   "outputs": [
    {
     "data": {
      "text/html": [
       "<div>\n",
       "<style scoped>\n",
       "    .dataframe tbody tr th:only-of-type {\n",
       "        vertical-align: middle;\n",
       "    }\n",
       "\n",
       "    .dataframe tbody tr th {\n",
       "        vertical-align: top;\n",
       "    }\n",
       "\n",
       "    .dataframe thead th {\n",
       "        text-align: right;\n",
       "    }\n",
       "</style>\n",
       "<table border=\"1\" class=\"dataframe\">\n",
       "  <thead>\n",
       "    <tr style=\"text-align: right;\">\n",
       "      <th></th>\n",
       "      <th>Company</th>\n",
       "      <th>Valuation</th>\n",
       "      <th>Date Joined</th>\n",
       "      <th>Industry</th>\n",
       "      <th>City</th>\n",
       "      <th>Country/Region</th>\n",
       "      <th>Continent</th>\n",
       "      <th>Year Founded</th>\n",
       "      <th>Funding</th>\n",
       "      <th>Select Investors</th>\n",
       "    </tr>\n",
       "  </thead>\n",
       "  <tbody>\n",
       "    <tr>\n",
       "      <th>0</th>\n",
       "      <td>Bytedance</td>\n",
       "      <td>180</td>\n",
       "      <td>2017-04-07</td>\n",
       "      <td>Artificial intelligence</td>\n",
       "      <td>Beijing</td>\n",
       "      <td>China</td>\n",
       "      <td>Asia</td>\n",
       "      <td>2012</td>\n",
       "      <td>$8B</td>\n",
       "      <td>Sequoia Capital China, SIG Asia Investments, S...</td>\n",
       "    </tr>\n",
       "    <tr>\n",
       "      <th>1</th>\n",
       "      <td>SpaceX</td>\n",
       "      <td>100</td>\n",
       "      <td>2012-12-01</td>\n",
       "      <td>Other</td>\n",
       "      <td>Hawthorne</td>\n",
       "      <td>United States</td>\n",
       "      <td>North America</td>\n",
       "      <td>2002</td>\n",
       "      <td>$7B</td>\n",
       "      <td>Founders Fund, Draper Fisher Jurvetson, Rothen...</td>\n",
       "    </tr>\n",
       "    <tr>\n",
       "      <th>2</th>\n",
       "      <td>SHEIN</td>\n",
       "      <td>100</td>\n",
       "      <td>2018-07-03</td>\n",
       "      <td>E-commerce &amp; direct-to-consumer</td>\n",
       "      <td>Shenzhen</td>\n",
       "      <td>China</td>\n",
       "      <td>Asia</td>\n",
       "      <td>2008</td>\n",
       "      <td>$2B</td>\n",
       "      <td>Tiger Global Management, Sequoia Capital China...</td>\n",
       "    </tr>\n",
       "    <tr>\n",
       "      <th>3</th>\n",
       "      <td>Stripe</td>\n",
       "      <td>95</td>\n",
       "      <td>2014-01-23</td>\n",
       "      <td>FinTech</td>\n",
       "      <td>San Francisco</td>\n",
       "      <td>United States</td>\n",
       "      <td>North America</td>\n",
       "      <td>2010</td>\n",
       "      <td>$2B</td>\n",
       "      <td>Khosla Ventures, LowercaseCapital, capitalG</td>\n",
       "    </tr>\n",
       "    <tr>\n",
       "      <th>4</th>\n",
       "      <td>Klarna</td>\n",
       "      <td>46</td>\n",
       "      <td>2011-12-12</td>\n",
       "      <td>Fintech</td>\n",
       "      <td>Stockholm</td>\n",
       "      <td>Sweden</td>\n",
       "      <td>Europe</td>\n",
       "      <td>2005</td>\n",
       "      <td>$4B</td>\n",
       "      <td>Institutional Venture Partners, Sequoia Capita...</td>\n",
       "    </tr>\n",
       "  </tbody>\n",
       "</table>\n",
       "</div>"
      ],
      "text/plain": [
       "     Company  Valuation Date Joined                         Industry  \\\n",
       "0  Bytedance        180  2017-04-07          Artificial intelligence   \n",
       "1     SpaceX        100  2012-12-01                            Other   \n",
       "2      SHEIN        100  2018-07-03  E-commerce & direct-to-consumer   \n",
       "3     Stripe         95  2014-01-23                          FinTech   \n",
       "4     Klarna         46  2011-12-12                          Fintech   \n",
       "\n",
       "            City Country/Region      Continent  Year Founded Funding  \\\n",
       "0        Beijing          China           Asia          2012     $8B   \n",
       "1      Hawthorne  United States  North America          2002     $7B   \n",
       "2       Shenzhen          China           Asia          2008     $2B   \n",
       "3  San Francisco  United States  North America          2010     $2B   \n",
       "4      Stockholm         Sweden         Europe          2005     $4B   \n",
       "\n",
       "                                    Select Investors  \n",
       "0  Sequoia Capital China, SIG Asia Investments, S...  \n",
       "1  Founders Fund, Draper Fisher Jurvetson, Rothen...  \n",
       "2  Tiger Global Management, Sequoia Capital China...  \n",
       "3        Khosla Ventures, LowercaseCapital, capitalG  \n",
       "4  Institutional Venture Partners, Sequoia Capita...  "
      ]
     },
     "execution_count": 5,
     "metadata": {},
     "output_type": "execute_result"
    }
   ],
   "source": [
    "companies = pd.read_csv('Modified_Unicorn_Companies.csv')\n",
    "\n",
    "# Display the first five rows.\n",
    "companies.head()\n"
   ]
  },
  {
   "cell_type": "code",
   "execution_count": null,
   "metadata": {},
   "outputs": [],
   "source": [
    "# Display the data types of the columns.\n",
    "companies.dtypes"
   ]
  },
  {
   "cell_type": "code",
   "execution_count": null,
   "metadata": {},
   "outputs": [],
   "source": [
    "# Apply necessary datatype conversions.\n",
    "companies['Date Joined'] = pd.to_datetime(companies['Date Joined'])"
   ]
  },
  {
   "cell_type": "code",
   "execution_count": null,
   "metadata": {},
   "outputs": [],
   "source": [
    "# Create the column Years To Unicorn.\n",
    "companies['Years To Unicorn'] = companies['Date Joined'].dt.year - companies['Year Founded']"
   ]
  },
  {
   "cell_type": "code",
   "execution_count": null,
   "metadata": {},
   "outputs": [],
   "source": [
    "companies['Years To Unicorn'].describe()"
   ]
  },
  {
   "cell_type": "code",
   "execution_count": null,
   "metadata": {},
   "outputs": [],
   "source": [
    "# Isolate any rows where `Years To Unicorn` is negative\n",
    "companies[companies['Years To Unicorn'] < 0]"
   ]
  },
  {
   "cell_type": "code",
   "execution_count": null,
   "metadata": {},
   "outputs": [],
   "source": [
    "# Replace InVision's `Year Founded` value with 2011\n",
    "companies.loc[companies['Company']=='InVision', 'Year Founded'] = 2011\n",
    "\n",
    "# Verify the change was made properly\n",
    "companies[companies['Company']=='InVision']"
   ]
  },
  {
   "cell_type": "code",
   "execution_count": null,
   "metadata": {},
   "outputs": [],
   "source": [
    "# Recalculate all values in the `Years To Unicorn` column\n",
    "companies['Years To Unicorn'] = companies['Date Joined'].dt.year - companies['Year Founded']\n",
    "\n",
    "# Verify that there are no more negative values in the column\n",
    "companies['Years To Unicorn'].describe()"
   ]
  },
  {
   "cell_type": "code",
   "execution_count": null,
   "metadata": {},
   "outputs": [],
   "source": [
    "# List provided by the company of the expected industry labels in the data\n",
    "industry_list = ['Artificial intelligence', 'Other','E-commerce & direct-to-consumer', 'Fintech',\\\n",
    "       'Internet software & services','Supply chain, logistics, & delivery', 'Consumer & retail',\\\n",
    "       'Data management & analytics', 'Edtech', 'Health', 'Hardware','Auto & transportation', \\\n",
    "        'Travel', 'Cybersecurity','Mobile & telecommunications']"
   ]
  },
  {
   "cell_type": "code",
   "execution_count": null,
   "metadata": {},
   "outputs": [],
   "source": [
    "# Check which values are in `Industry` but not in `industry_list`\n",
    "set(companies['Industry']) - set(industry_list)"
   ]
  },
  {
   "cell_type": "code",
   "execution_count": null,
   "metadata": {},
   "outputs": [],
   "source": [
    "# 1. Create `replacement_dict`\n",
    "replacement_dict = {'Artificial Intelligence': 'Artificial intelligence',\n",
    "                   'Data management and analytics': 'Data management & analytics',\n",
    "                   'FinTech': 'Fintech'\n",
    "                   }\n",
    "\n",
    "# 2. Replace the incorrect values in the `Industry` column\n",
    "companies['Industry'] = companies['Industry'].replace(replacement_dict)\n",
    "\n",
    "# 3. Verify that there are no longer any elements in `Industry` that are not in `industry_list`\n",
    "set(companies['Industry']) - set(industry_list)"
   ]
  },
  {
   "cell_type": "code",
   "execution_count": null,
   "metadata": {},
   "outputs": [],
   "source": [
    "# Isolate rows of all companies that have duplicates\n",
    "companies[companies.duplicated(subset=['Company'], keep=False)]"
   ]
  },
  {
   "cell_type": "code",
   "execution_count": null,
   "metadata": {},
   "outputs": [],
   "source": [
    "# Drop rows of duplicate companies after their first occurrence\n",
    "companies = companies.drop_duplicates(subset=['Company'], keep='first')"
   ]
  },
  {
   "cell_type": "code",
   "execution_count": null,
   "metadata": {},
   "outputs": [],
   "source": [
    "# Create new `High Valuation` column\n",
    "# Use qcut to divide Valuation into 'high' and 'low' Valuation groups\n",
    "companies['High Valuation'] = pd.qcut(companies['Valuation'], 2, labels = ['low', 'high'])"
   ]
  },
  {
   "cell_type": "code",
   "execution_count": null,
   "metadata": {},
   "outputs": [],
   "source": [
    "# Rank the continents by number of unicorn companies\n",
    "companies['Continent'].value_counts()"
   ]
  },
  {
   "cell_type": "code",
   "execution_count": null,
   "metadata": {},
   "outputs": [],
   "source": [
    "# Create numeric `Continent Number` column\n",
    "continent_dict = {'North America': 1,\n",
    "                  'Asia': 2,\n",
    "                  'Europe': 3,\n",
    "                  'South America': 4,\n",
    "                  'Oceania': 5,\n",
    "                  'Africa': 6\n",
    "                 }\n",
    "companies['Continent Number'] = companies['Continent'].replace(continent_dict)\n",
    "companies.head()"
   ]
  },
  {
   "cell_type": "code",
   "execution_count": null,
   "metadata": {},
   "outputs": [],
   "source": [
    "# Create `Country/Region Numeric` column\n",
    "# Create numeric categories for Country/Region\n",
    "companies['Country/Region Numeric'] = companies['Country/Region'].astype('category').cat.codes"
   ]
  },
  {
   "cell_type": "code",
   "execution_count": null,
   "metadata": {},
   "outputs": [],
   "source": [
    "# Convert `Industry` to numeric data\n",
    "# Create dummy variables with Industry values\n",
    "industry_encoded = pd.get_dummies(companies['Industry'])\n",
    "\n",
    "# Combine `companies` DataFrame with new dummy Industry columns\n",
    "companies = pd.concat([companies, industry_encoded], axis=1)"
   ]
  },
  {
   "cell_type": "code",
   "execution_count": null,
   "metadata": {},
   "outputs": [],
   "source": [
    "companies.head()"
   ]
  },
  {
   "cell_type": "markdown",
   "metadata": {},
   "source": [
    "**Question: Which categorical encoding approach did you use for each variable? Why?**\n",
    "\n",
    "* `Continent` - Ordinal label encoding was used because there was a hierarchical order to the categories.\n",
    "* `Country/Region` - Nominal label encoding was used because there was not a hierarchical order the categories.\n",
    "* `Industry` - Dummy encoding was used because there were not many different categories represented and they were all equally important.\n",
    "\n",
    "**Question: How does label encoding change the data?**\n",
    "\n",
    "Label encoding changes the data by assigning each category a unique number instead of a qualitative value. \n",
    "\n",
    "**Question: What are the benefits of label encoding?**\n",
    "\n",
    "Label encoding is useful in machine learning models, because many types of machine learning require all variables to be of a numeric data type.\n",
    "\n",
    "**Question: What are the disadvantages of label encoding?**\n",
    "\n",
    "Label encoding may make it more difficult to directly interpet what a column value represents. Further, it may introduce unintended relationships between the categorical data in a dataset.\n",
    "\n",
    "## Conclusion\n",
    "\n",
    "**What are some key takeaways that you learned during this lab?**\n",
    "\n",
    "* Input validation is essential for ensuring data is high quality and error-free.\n",
    "* In practice, input validation requires trial and error to identify issues and determine the best way to fix them.\n",
    "* There are benefits and disadvantages to both label encoding and dummy/one-hot encoding.\n",
    "* The decision to use label encoding versus dummy/one-hot encoding needs to be made on a case-by-case basis.\n",
    "\n"
   ]
  },
  {
   "cell_type": "code",
   "execution_count": null,
   "metadata": {},
   "outputs": [],
   "source": []
  },
  {
   "cell_type": "code",
   "execution_count": null,
   "metadata": {},
   "outputs": [],
   "source": []
  }
 ],
 "metadata": {
  "kernelspec": {
   "display_name": "metrica",
   "language": "python",
   "name": "python3"
  },
  "language_info": {
   "codemirror_mode": {
    "name": "ipython",
    "version": 3
   },
   "file_extension": ".py",
   "mimetype": "text/x-python",
   "name": "python",
   "nbconvert_exporter": "python",
   "pygments_lexer": "ipython3",
   "version": "3.10.13"
  }
 },
 "nbformat": 4,
 "nbformat_minor": 2
}
